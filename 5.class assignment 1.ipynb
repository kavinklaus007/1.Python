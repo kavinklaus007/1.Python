{
 "cells": [
  {
   "cell_type": "code",
   "execution_count": 9,
   "id": "04449dc7-5712-4d22-982f-c65d65286f5d",
   "metadata": {},
   "outputs": [],
   "source": [
    "from multifunctions import SubfieldsInAI"
   ]
  },
  {
   "cell_type": "code",
   "execution_count": 12,
   "id": "a4846bc4-9188-4780-a8bc-236604f6731b",
   "metadata": {},
   "outputs": [
    {
     "name": "stdout",
     "output_type": "stream",
     "text": [
      "Sub-fields in AI are:\n",
      "Machine Learning\n",
      "Neural Networks\n",
      "Vision\n",
      "Robotics\n",
      "Speech Processing\n",
      "Natural Language Processing\n"
     ]
    }
   ],
   "source": [
    "SubfieldsInAI.Subfields()"
   ]
  },
  {
   "cell_type": "code",
   "execution_count": 1,
   "id": "7d35f42d-9dca-42cc-b9fd-d365773efa4d",
   "metadata": {},
   "outputs": [],
   "source": [
    "from multifunctions import OddEvenAI"
   ]
  },
  {
   "cell_type": "code",
   "execution_count": 2,
   "id": "27ebc594-2b2a-4af5-8a23-e699134751c6",
   "metadata": {},
   "outputs": [
    {
     "name": "stdin",
     "output_type": "stream",
     "text": [
      "Enter a number: 45321\n"
     ]
    },
    {
     "name": "stdout",
     "output_type": "stream",
     "text": [
      "45321 is Odd number\n"
     ]
    },
    {
     "data": {
      "text/plain": [
       "45321"
      ]
     },
     "execution_count": 2,
     "metadata": {},
     "output_type": "execute_result"
    }
   ],
   "source": [
    "OddEvenAI.oddeven()"
   ]
  },
  {
   "cell_type": "code",
   "execution_count": 1,
   "id": "795d3731-67c4-48f3-b4aa-30442139b466",
   "metadata": {},
   "outputs": [],
   "source": [
    "from multifunctions import ElegibilityForMarriage"
   ]
  },
  {
   "cell_type": "code",
   "execution_count": 2,
   "id": "a15d828a-fd59-4f03-9df3-380538fcaf90",
   "metadata": {},
   "outputs": [
    {
     "name": "stdin",
     "output_type": "stream",
     "text": [
      "Your Gender: male\n",
      "Your age: 19\n"
     ]
    },
    {
     "name": "stdout",
     "output_type": "stream",
     "text": [
      "Not Eligible\n"
     ]
    },
    {
     "data": {
      "text/plain": [
       "'Not Eligible'"
      ]
     },
     "execution_count": 2,
     "metadata": {},
     "output_type": "execute_result"
    }
   ],
   "source": [
    "ElegibilityForMarriage.marriage()"
   ]
  },
  {
   "cell_type": "code",
   "execution_count": 1,
   "id": "2b5e36c2-1b69-45b6-a9ff-eae05e6023d0",
   "metadata": {},
   "outputs": [],
   "source": [
    "from multifunctions import FindPercent"
   ]
  },
  {
   "cell_type": "code",
   "execution_count": 2,
   "id": "64896c6e-46e3-4c1b-a18b-0e9b94b60f5e",
   "metadata": {},
   "outputs": [
    {
     "name": "stdin",
     "output_type": "stream",
     "text": [
      "Subject1= 98\n",
      "Subject2= 87\n",
      "Subject3= 95\n",
      "Subject4= 95\n",
      "Subject5= 93\n"
     ]
    },
    {
     "name": "stdout",
     "output_type": "stream",
     "text": [
      "Total= 468\n",
      "Percentage= 93.6\n"
     ]
    },
    {
     "data": {
      "text/plain": [
       "93.6"
      ]
     },
     "execution_count": 2,
     "metadata": {},
     "output_type": "execute_result"
    }
   ],
   "source": [
    "FindPercent.percentage()"
   ]
  },
  {
   "cell_type": "code",
   "execution_count": 1,
   "id": "709a23ed-4613-4061-9417-ffd16df8e4e0",
   "metadata": {},
   "outputs": [],
   "source": [
    "from multifunctions import Triangle"
   ]
  },
  {
   "cell_type": "code",
   "execution_count": 2,
   "id": "6bcf3fb6-0816-4c1c-a9ae-e0522b44adca",
   "metadata": {},
   "outputs": [
    {
     "name": "stdin",
     "output_type": "stream",
     "text": [
      "Height: 32\n",
      "Breadth: 34\n"
     ]
    },
    {
     "name": "stdout",
     "output_type": "stream",
     "text": [
      "Area formula:(Height*Breadth)/2\n",
      "Area of Triangle: 544.0\n"
     ]
    },
    {
     "name": "stdin",
     "output_type": "stream",
     "text": [
      "Height1: 2\n",
      "Height2: 4\n",
      "Breadth: 4\n"
     ]
    },
    {
     "name": "stdout",
     "output_type": "stream",
     "text": [
      "Perimeter formula: Height1+Height2+Breadth\n",
      "Perimeter of triangle: 10\n"
     ]
    },
    {
     "data": {
      "text/plain": [
       "10"
      ]
     },
     "execution_count": 2,
     "metadata": {},
     "output_type": "execute_result"
    }
   ],
   "source": [
    "Triangle.triangle()"
   ]
  },
  {
   "cell_type": "code",
   "execution_count": null,
   "id": "5ca71449-d8bd-4926-a6b9-ee20c3fa0efe",
   "metadata": {},
   "outputs": [],
   "source": []
  }
 ],
 "metadata": {
  "kernelspec": {
   "display_name": "Python 3 (ipykernel)",
   "language": "python",
   "name": "python3"
  },
  "language_info": {
   "codemirror_mode": {
    "name": "ipython",
    "version": 3
   },
   "file_extension": ".py",
   "mimetype": "text/x-python",
   "name": "python",
   "nbconvert_exporter": "python",
   "pygments_lexer": "ipython3",
   "version": "3.13.5"
  }
 },
 "nbformat": 4,
 "nbformat_minor": 5
}
