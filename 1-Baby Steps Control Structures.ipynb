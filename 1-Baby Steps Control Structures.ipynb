{
 "cells": [
  {
   "cell_type": "code",
   "execution_count": 1,
   "id": "e535cf8b-c380-4f8c-bbb2-bdb90c6c62a6",
   "metadata": {},
   "outputs": [
    {
     "name": "stdout",
     "output_type": "stream",
     "text": [
      "Welcome to Assignment-1\n"
     ]
    }
   ],
   "source": [
    "print(\"Welcome to Assignment-1\")"
   ]
  },
  {
   "cell_type": "code",
   "execution_count": 4,
   "id": "78512233-d87a-4929-8ab7-522a44aa956a",
   "metadata": {},
   "outputs": [
    {
     "name": "stdout",
     "output_type": "stream",
     "text": [
      "num1: 10\n",
      "num2: 30\n",
      "add: 40\n"
     ]
    }
   ],
   "source": [
    "num1=10\n",
    "print(\"num1:\",num1)\n",
    "num2=30\n",
    "print(\"num2:\",num2)\n",
    "add=num1+num2\n",
    "print(\"add:\",add)"
   ]
  },
  {
   "cell_type": "code",
   "execution_count": 16,
   "id": "6fb1163e-ac58-40be-8873-c8cfcbb35e44",
   "metadata": {},
   "outputs": [
    {
     "name": "stdin",
     "output_type": "stream",
     "text": [
      "Enter the BMI index: 34\n"
     ]
    },
    {
     "name": "stdout",
     "output_type": "stream",
     "text": [
      "Very Over Weight\n"
     ]
    }
   ],
   "source": [
    "BMI=float(input(\"Enter the BMI index:\"))\n",
    "\n",
    "if(BMI<18.5):\n",
    "    print(\"UNDERWEIGHT\")\n",
    "elif(BMI<24.9):\n",
    "    print(\"Normal Weight\")\n",
    "elif(BMI<29.9):\n",
    "    print(\"Over Weight\")\n",
    "elif(BMI<39.9):\n",
    "    print(\"Very Over Weight\")\n",
    "else:\n",
    "    print(\"Extreme Weight\")"
   ]
  },
  {
   "cell_type": "code",
   "execution_count": null,
   "id": "f5508e16-ef36-4138-ac7b-38f3e2ac429e",
   "metadata": {},
   "outputs": [],
   "source": []
  },
  {
   "cell_type": "code",
   "execution_count": null,
   "id": "f7892b5b-ab12-4479-b713-9496d0f89e93",
   "metadata": {},
   "outputs": [],
   "source": []
  }
 ],
 "metadata": {
  "kernelspec": {
   "display_name": "Python 3 (ipykernel)",
   "language": "python",
   "name": "python3"
  },
  "language_info": {
   "codemirror_mode": {
    "name": "ipython",
    "version": 3
   },
   "file_extension": ".py",
   "mimetype": "text/x-python",
   "name": "python",
   "nbconvert_exporter": "python",
   "pygments_lexer": "ipython3",
   "version": "3.13.5"
  }
 },
 "nbformat": 4,
 "nbformat_minor": 5
}
