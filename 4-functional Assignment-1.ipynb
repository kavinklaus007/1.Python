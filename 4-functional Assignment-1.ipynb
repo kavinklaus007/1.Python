{
 "cells": [
  {
   "cell_type": "code",
   "execution_count": 1,
   "id": "470177e0-7d89-4e31-a5bc-00670bbff205",
   "metadata": {},
   "outputs": [],
   "source": [
    "def Subfields():\n",
    "    subfield=(\"Sub-fields in AI are:\",\"Machine Learning\",\"Neural Networks\",\"Vision\",\"Robotics\",\"Speech Processing\",\"Natural Language Processing\")\n",
    "    for ai in subfield:\n",
    "        print (ai)\n",
    "    "
   ]
  },
  {
   "cell_type": "code",
   "execution_count": 2,
   "id": "50fc1a0c-e395-4f18-91bc-88810fd8e726",
   "metadata": {},
   "outputs": [
    {
     "name": "stdout",
     "output_type": "stream",
     "text": [
      "Sub-fields in AI are:\n",
      "Machine Learning\n",
      "Neural Networks\n",
      "Vision\n",
      "Robotics\n",
      "Speech Processing\n",
      "Natural Language Processing\n"
     ]
    }
   ],
   "source": [
    "Subfields()"
   ]
  },
  {
   "cell_type": "code",
   "execution_count": 9,
   "id": "72e093e7-89e0-49aa-b1d2-e5d5b3fbe061",
   "metadata": {},
   "outputs": [],
   "source": [
    "def oddeven():\n",
    "    num=int(input(\"Enter a number:\"))\n",
    "    if((num%2)==0):\n",
    "        print(num, \"is Even number\")\n",
    "    else:\n",
    "        print(num, \"is Odd number\")\n",
    "    return num"
   ]
  },
  {
   "cell_type": "code",
   "execution_count": 10,
   "id": "5fa7ded2-29ee-4dd4-a385-6aba56153478",
   "metadata": {},
   "outputs": [
    {
     "name": "stdin",
     "output_type": "stream",
     "text": [
      "Enter a number: 52452\n"
     ]
    },
    {
     "name": "stdout",
     "output_type": "stream",
     "text": [
      "52452 is Even number\n"
     ]
    }
   ],
   "source": [
    "oddeven=oddeven()"
   ]
  },
  {
   "cell_type": "code",
   "execution_count": 42,
   "id": "3039504e-e754-4356-9dd7-b60e72399a5c",
   "metadata": {},
   "outputs": [],
   "source": [
    "def marriage():\n",
    "    name=input(\"Your Gender:\").lower()\n",
    "    age=int(input(\"Your age:\"))\n",
    "    if(name==\"male\"):\n",
    "        if(age>=21):\n",
    "            print(\"Eligible\")\n",
    "            message=\"Eligible\"\n",
    "        else:\n",
    "            print(\"Not Eligible\")\n",
    "            message=\"Not Eligible\"\n",
    "    else:\n",
    "        if(age>=18):\n",
    "            print(\"Eligible\")\n",
    "            message=\"Eligible\"\n",
    "        else:\n",
    "            print(\"Not Eligible\")\n",
    "            message=\"Not Eligible\"\n",
    "    return message\n",
    "    \n"
   ]
  },
  {
   "cell_type": "code",
   "execution_count": 40,
   "id": "66bbe48d-157e-4e23-9abd-eb04c9fea79e",
   "metadata": {},
   "outputs": [
    {
     "name": "stdin",
     "output_type": "stream",
     "text": [
      "Your Gender: male\n",
      "Your age: 17\n"
     ]
    },
    {
     "name": "stdout",
     "output_type": "stream",
     "text": [
      "Not Eligible\n"
     ]
    },
    {
     "data": {
      "text/plain": [
       "'Not Eligible'"
      ]
     },
     "execution_count": 40,
     "metadata": {},
     "output_type": "execute_result"
    }
   ],
   "source": [
    "marriage()"
   ]
  },
  {
   "cell_type": "code",
   "execution_count": 38,
   "id": "c5a894ef-e0fd-47fe-891c-464b9ab61b95",
   "metadata": {},
   "outputs": [
    {
     "name": "stdin",
     "output_type": "stream",
     "text": [
      "Your Gender: female\n",
      "Your age: 22\n"
     ]
    },
    {
     "name": "stdout",
     "output_type": "stream",
     "text": [
      "Eligible\n"
     ]
    }
   ],
   "source": [
    "status=marriage()"
   ]
  },
  {
   "cell_type": "code",
   "execution_count": 41,
   "id": "6a595a70-a9fa-4d8e-90db-9eab718e9f2f",
   "metadata": {},
   "outputs": [
    {
     "data": {
      "text/plain": [
       "'Eligible'"
      ]
     },
     "execution_count": 41,
     "metadata": {},
     "output_type": "execute_result"
    }
   ],
   "source": [
    "status"
   ]
  },
  {
   "cell_type": "code",
   "execution_count": 56,
   "id": "f0cf36a7-5b93-4b27-87e1-41f5bbc80a8e",
   "metadata": {},
   "outputs": [],
   "source": [
    "def percentage():\n",
    "    num1=int(input(\"Subject1=\"))\n",
    "    num2=int(input(\"Subject2=\"))\n",
    "    num3=int(input(\"Subject3=\"))\n",
    "    num4=int(input(\"Subject4=\"))\n",
    "    num5=int(input(\"Subject5=\"))\n",
    "    Total=num1+num2+num3+num4+num5\n",
    "    Percentage=Total/5\n",
    "    print(\"Total=\",Total)\n",
    "    print(\"Percentage=\",Total/5)\n",
    "    return Percentage"
   ]
  },
  {
   "cell_type": "code",
   "execution_count": 57,
   "id": "4464f5b4-ad4b-40d6-a0e6-465821e15911",
   "metadata": {},
   "outputs": [
    {
     "name": "stdin",
     "output_type": "stream",
     "text": [
      "Subject1= 98\n",
      "Subject2= 95\n",
      "Subject3= 95\n",
      "Subject4= 87\n",
      "Subject5= 93\n"
     ]
    },
    {
     "name": "stdout",
     "output_type": "stream",
     "text": [
      "Total= 468\n",
      "Percentage= 93.6\n"
     ]
    },
    {
     "data": {
      "text/plain": [
       "93.6"
      ]
     },
     "execution_count": 57,
     "metadata": {},
     "output_type": "execute_result"
    }
   ],
   "source": [
    "percentage()"
   ]
  },
  {
   "cell_type": "code",
   "execution_count": 58,
   "id": "a8cafa56-9ed4-4515-9031-029c4d5bd776",
   "metadata": {},
   "outputs": [
    {
     "name": "stdin",
     "output_type": "stream",
     "text": [
      "Subject1= 98\n",
      "Subject2= 87\n",
      "Subject3= 95\n",
      "Subject4= 95\n",
      "Subject5= 93\n"
     ]
    },
    {
     "name": "stdout",
     "output_type": "stream",
     "text": [
      "Total= 468\n",
      "Percentage= 93.6\n"
     ]
    }
   ],
   "source": [
    "mark=percentage()"
   ]
  },
  {
   "cell_type": "code",
   "execution_count": 81,
   "id": "56acfe5e-7c0b-4ea2-9f86-46e287084c11",
   "metadata": {},
   "outputs": [],
   "source": [
    "def triangle():\n",
    "    num1=int(input(\"Height:\"))\n",
    "    num2=int(input(\"Breadth:\"))\n",
    "    print(\"Area formula:(Height*Breadth)/2\")\n",
    "    num4=(num1*num2)/2\n",
    "    print(\"Area of Triangle:\",num4)\n",
    "    num6=int(input(\"Height1:\"))\n",
    "    num7=int(input(\"Height2:\"))\n",
    "    num8=int(input(\"Breadth:\"))\n",
    "    print(\"Perimeter formula: Height1+Height2+Breadth\")\n",
    "    num10=num6+num7+num8\n",
    "    print(\"Perimeter of triangle:\",num10)\n",
    "    return num10\n",
    "    \n",
    "    "
   ]
  },
  {
   "cell_type": "code",
   "execution_count": 82,
   "id": "3f4246ca-0c4b-4bb3-a081-5fb82163e83c",
   "metadata": {},
   "outputs": [
    {
     "name": "stdin",
     "output_type": "stream",
     "text": [
      "Height: 32\n",
      "Breadth: 34\n"
     ]
    },
    {
     "name": "stdout",
     "output_type": "stream",
     "text": [
      "Area formula:(Height*Breadth)/2\n",
      "Area of Triangle: 544.0\n"
     ]
    },
    {
     "name": "stdin",
     "output_type": "stream",
     "text": [
      "Height1: 2\n",
      "Height2: 4\n",
      "Breadth: 4\n"
     ]
    },
    {
     "name": "stdout",
     "output_type": "stream",
     "text": [
      "Perimeter formula: Height1+Height2+Breadth\n",
      "Perimeter of triangle: 10\n"
     ]
    },
    {
     "data": {
      "text/plain": [
       "10"
      ]
     },
     "execution_count": 82,
     "metadata": {},
     "output_type": "execute_result"
    }
   ],
   "source": [
    "triangle()"
   ]
  },
  {
   "cell_type": "code",
   "execution_count": 80,
   "id": "e5dd6988-2169-4949-b9db-bb5df9fe36db",
   "metadata": {},
   "outputs": [
    {
     "name": "stdin",
     "output_type": "stream",
     "text": [
      "Height: 32\n",
      "Breadth: 34\n"
     ]
    },
    {
     "name": "stdout",
     "output_type": "stream",
     "text": [
      "Area formula:(Height*Breadth)/2\n",
      "Area of Triangle: 544.0\n"
     ]
    },
    {
     "name": "stdin",
     "output_type": "stream",
     "text": [
      "Height1: 2\n",
      "Height2: 4\n",
      "Breadth: 4\n"
     ]
    },
    {
     "name": "stdout",
     "output_type": "stream",
     "text": [
      "Perimeter formula: Height1+Height2+Breadth\n",
      "Perimeter of triangle: 10\n"
     ]
    }
   ],
   "source": [
    "triangle=triangle()"
   ]
  },
  {
   "cell_type": "code",
   "execution_count": null,
   "id": "051bf0f1-5c4c-4602-8f0c-f61f12f09f4a",
   "metadata": {},
   "outputs": [],
   "source": []
  }
 ],
 "metadata": {
  "kernelspec": {
   "display_name": "Python 3 (ipykernel)",
   "language": "python",
   "name": "python3"
  },
  "language_info": {
   "codemirror_mode": {
    "name": "ipython",
    "version": 3
   },
   "file_extension": ".py",
   "mimetype": "text/x-python",
   "name": "python",
   "nbconvert_exporter": "python",
   "pygments_lexer": "ipython3",
   "version": "3.13.5"
  }
 },
 "nbformat": 4,
 "nbformat_minor": 5
}
