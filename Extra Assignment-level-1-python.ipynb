{
 "cells": [
  {
   "cell_type": "code",
   "execution_count": 1,
   "id": "ff4b8da7-1b1f-4af9-965a-e7c6c3e255f1",
   "metadata": {},
   "outputs": [
    {
     "name": "stdout",
     "output_type": "stream",
     "text": [
      "Hope AI\n"
     ]
    }
   ],
   "source": [
    "print (\"Hope AI\")"
   ]
  },
  {
   "cell_type": "code",
   "execution_count": 7,
   "id": "10ffa12f-ba9c-471d-8071-8f443273af68",
   "metadata": {},
   "outputs": [
    {
     "name": "stdin",
     "output_type": "stream",
     "text": [
      "Enter your institute name: Hope AI\n"
     ]
    }
   ],
   "source": [
    "name=input(\"Enter your institute name:\")"
   ]
  },
  {
   "cell_type": "code",
   "execution_count": 9,
   "id": "5c1e0581-049c-4cc0-b325-08d726b4aa2b",
   "metadata": {},
   "outputs": [
    {
     "name": "stdin",
     "output_type": "stream",
     "text": [
      "Enter your name: RAj\n",
      "Enter your age: 15\n",
      "Enter your school name: Guru School\n",
      "enter your degree: B.E\n"
     ]
    }
   ],
   "source": [
    "name=input(\"Enter your name:\")\n",
    "age=int(input(\"Enter your age:\"))\n",
    "school_name=input(\"Enter your school name:\")\n",
    "degree=input(\"enter your degree:\")"
   ]
  },
  {
   "cell_type": "code",
   "execution_count": 11,
   "id": "d9bdcf39-65ee-4093-be26-bf4531cc166c",
   "metadata": {},
   "outputs": [
    {
     "name": "stdout",
     "output_type": "stream",
     "text": [
      "add: 77\n"
     ]
    }
   ],
   "source": [
    "a=43\n",
    "b=34\n",
    "add=a+b\n",
    "print(\"add:\",add)"
   ]
  },
  {
   "cell_type": "code",
   "execution_count": 13,
   "id": "8d9f4cc6-a433-46f7-b61c-43e999d9beb6",
   "metadata": {},
   "outputs": [
    {
     "name": "stdout",
     "output_type": "stream",
     "text": [
      "Sub: 9\n"
     ]
    }
   ],
   "source": [
    "a=43\n",
    "b=34\n",
    "sub=a-b\n",
    "print(\"Sub:\",sub)"
   ]
  },
  {
   "cell_type": "code",
   "execution_count": 15,
   "id": "524a033a-6e0b-4fd7-95d0-a7063f59c6c9",
   "metadata": {},
   "outputs": [
    {
     "name": "stdout",
     "output_type": "stream",
     "text": [
      "mul: 6111\n"
     ]
    }
   ],
   "source": [
    "a=63\n",
    "b=97\n",
    "mul=a*b\n",
    "print(\"mul:\",mul)"
   ]
  },
  {
   "cell_type": "code",
   "execution_count": 17,
   "id": "f0b660cf-5e50-4d6d-8829-cec4b46f4f97",
   "metadata": {},
   "outputs": [
    {
     "name": "stdout",
     "output_type": "stream",
     "text": [
      "Floor div: 2\n"
     ]
    }
   ],
   "source": [
    "a=76\n",
    "b=31\n",
    "div=76//31\n",
    "print(\"Floor div:\",div)"
   ]
  },
  {
   "cell_type": "code",
   "execution_count": 18,
   "id": "211306fe-3e5d-4ddf-bf1d-5c38aba8184e",
   "metadata": {},
   "outputs": [
    {
     "name": "stdout",
     "output_type": "stream",
     "text": [
      "modulo: 14\n"
     ]
    }
   ],
   "source": [
    "a=76\n",
    "b=31\n",
    "modulo=a%b\n",
    "print(\"modulo:\",modulo)"
   ]
  },
  {
   "cell_type": "code",
   "execution_count": 19,
   "id": "b3312dbc-3b62-467e-8ef0-72c28ca62024",
   "metadata": {},
   "outputs": [
    {
     "name": "stdout",
     "output_type": "stream",
     "text": [
      "power: 256\n"
     ]
    }
   ],
   "source": [
    "a=4\n",
    "b=4\n",
    "power=pow(4,4)\n",
    "print(\"power:\",power)"
   ]
  },
  {
   "cell_type": "code",
   "execution_count": null,
   "id": "8d6913b1-1ed9-4286-88c3-fe8b791f2845",
   "metadata": {},
   "outputs": [],
   "source": []
  }
 ],
 "metadata": {
  "kernelspec": {
   "display_name": "Python 3 (ipykernel)",
   "language": "python",
   "name": "python3"
  },
  "language_info": {
   "codemirror_mode": {
    "name": "ipython",
    "version": 3
   },
   "file_extension": ".py",
   "mimetype": "text/x-python",
   "name": "python",
   "nbconvert_exporter": "python",
   "pygments_lexer": "ipython3",
   "version": "3.13.5"
  }
 },
 "nbformat": 4,
 "nbformat_minor": 5
}
