{
 "cells": [
  {
   "cell_type": "code",
   "execution_count": 17,
   "id": "dbf6c4c3-d9b3-402b-a35c-0fdf7a1d464c",
   "metadata": {},
   "outputs": [
    {
     "name": "stdin",
     "output_type": "stream",
     "text": [
      "Enter the age: 13\n"
     ]
    }
   ],
   "source": [
    "age=int(input(\"Enter the age:\"))"
   ]
  },
  {
   "cell_type": "code",
   "execution_count": 18,
   "id": "4ade9e2b-6b6d-423b-8dc7-fcaabbfe8f64",
   "metadata": {},
   "outputs": [
    {
     "name": "stdout",
     "output_type": "stream",
     "text": [
      "Teen\n"
     ]
    }
   ],
   "source": [
    "if(age>=18):\n",
    "    print(\"Adult\")\n",
    "else:\n",
    "    print(\"Teen\")\n",
    "    "
   ]
  },
  {
   "cell_type": "code",
   "execution_count": 19,
   "id": "36a81503-6092-45df-b50b-151271f342e9",
   "metadata": {},
   "outputs": [
    {
     "name": "stdout",
     "output_type": "stream",
     "text": [
      "Children\n"
     ]
    }
   ],
   "source": [
    "if(age<=18):\n",
    "    print(\"Children\")\n"
   ]
  },
  {
   "cell_type": "code",
   "execution_count": 31,
   "id": "331628d7-8520-4e15-9f68-2bb60d9d931c",
   "metadata": {},
   "outputs": [
    {
     "name": "stdin",
     "output_type": "stream",
     "text": [
      "Enter a age: 45\n"
     ]
    }
   ],
   "source": [
    "age=int(input(\"Enter a age:\"))"
   ]
  },
  {
   "cell_type": "code",
   "execution_count": 32,
   "id": "6d715024-0f5f-41ed-8059-6fd0251623ad",
   "metadata": {},
   "outputs": [
    {
     "name": "stdout",
     "output_type": "stream",
     "text": [
      "Citizen\n"
     ]
    }
   ],
   "source": [
    "if(age<=18):\n",
    "    print(\"Children\")\n",
    "elif(age<=35):\n",
    "    print(\"Adult\")\n",
    "elif(age<=59):\n",
    "    print(\"Citizen\")\n",
    "else:\n",
    "    print(\"Senior Citizen\")\n",
    "    "
   ]
  },
  {
   "cell_type": "code",
   "execution_count": 40,
   "id": "faa0e898-9d63-4f48-8719-7cd03241cc7f",
   "metadata": {},
   "outputs": [
    {
     "name": "stdin",
     "output_type": "stream",
     "text": [
      "Enter the number: -5\n"
     ]
    }
   ],
   "source": [
    "Number=int(input(\"Enter the number:\"))"
   ]
  },
  {
   "cell_type": "code",
   "execution_count": 41,
   "id": "b200ed67-91fc-4652-9d2f-2af6054d497b",
   "metadata": {},
   "outputs": [
    {
     "name": "stdout",
     "output_type": "stream",
     "text": [
      "Negative\n"
     ]
    }
   ],
   "source": [
    "if(Number<0):\n",
    "    print(\"Negative\")\n",
    "elif(Number>0):\n",
    "    print(\"Positve\")\n",
    "else:\n",
    "    print(\"Zero\")"
   ]
  },
  {
   "cell_type": "code",
   "execution_count": 43,
   "id": "435e4fc3-d4c3-41da-8b41-bce5995b2964",
   "metadata": {},
   "outputs": [],
   "source": [
    "lists=[2,24,44,64]"
   ]
  },
  {
   "cell_type": "code",
   "execution_count": 44,
   "id": "183510d7-1ba4-46e6-a40b-e32949502370",
   "metadata": {},
   "outputs": [
    {
     "name": "stdout",
     "output_type": "stream",
     "text": [
      "2\n",
      "24\n",
      "44\n",
      "64\n"
     ]
    }
   ],
   "source": [
    "for temp in lists:\n",
    "    print(temp)"
   ]
  },
  {
   "cell_type": "code",
   "execution_count": 46,
   "id": "71b29707-b745-4880-a188-15202473266e",
   "metadata": {},
   "outputs": [
    {
     "name": "stdout",
     "output_type": "stream",
     "text": [
      "Children\n",
      "Adult\n",
      "Citizen\n",
      "Senior Citizen\n"
     ]
    }
   ],
   "source": [
    "for age in lists:\n",
    "    if(age<=18):\n",
    "        print(\"Children\")\n",
    "    elif(age<=35):\n",
    "        print(\"Adult\")\n",
    "    elif(age<=59):\n",
    "        print(\"Citizen\")\n",
    "    else:\n",
    "      print(\"Senior Citizen\")\n",
    "    "
   ]
  },
  {
   "cell_type": "code",
   "execution_count": 3,
   "id": "76235b8e-098a-43a6-a3e6-40e629ec2893",
   "metadata": {},
   "outputs": [],
   "source": [
    "lists=[10,20,30,40,50]"
   ]
  },
  {
   "cell_type": "code",
   "execution_count": 10,
   "id": "5daf6d61-c3bd-449c-aa9c-45ba369052a0",
   "metadata": {},
   "outputs": [
    {
     "name": "stdout",
     "output_type": "stream",
     "text": [
      "10\n",
      "20\n",
      "30\n",
      "40\n",
      "50\n"
     ]
    }
   ],
   "source": [
    "for numb in lists:\n",
    "    print (numb)"
   ]
  },
  {
   "cell_type": "code",
   "execution_count": 6,
   "id": "0ef3208d-c3b2-45ca-8714-543af890baf6",
   "metadata": {},
   "outputs": [
    {
     "name": "stdin",
     "output_type": "stream",
     "text": [
      "Enter a value: 1234531\n"
     ]
    },
    {
     "name": "stdout",
     "output_type": "stream",
     "text": [
      "Odd\n"
     ]
    }
   ],
   "source": [
    "num=int(input(\"Enter a value:\"))\n",
    "if ((num%2)==0):\n",
    "    print(\"Even\")\n",
    "else:\n",
    "    print(\"Odd\")"
   ]
  },
  {
   "cell_type": "code",
   "execution_count": 7,
   "id": "0f8c0032-1884-4043-a71e-62d07d3254ee",
   "metadata": {},
   "outputs": [
    {
     "name": "stdout",
     "output_type": "stream",
     "text": [
      "0\n",
      "1\n",
      "2\n",
      "3\n",
      "4\n",
      "5\n",
      "6\n",
      "7\n",
      "8\n",
      "9\n"
     ]
    }
   ],
   "source": [
    "for num in range(0,10):\n",
    "    print(num)"
   ]
  },
  {
   "cell_type": "code",
   "execution_count": 8,
   "id": "71a5603d-c8c1-40d1-a8d7-75c4464e2f8b",
   "metadata": {},
   "outputs": [
    {
     "name": "stdout",
     "output_type": "stream",
     "text": [
      "40\n",
      "42\n",
      "44\n",
      "46\n",
      "48\n",
      "50\n",
      "52\n",
      "54\n",
      "56\n",
      "58\n"
     ]
    }
   ],
   "source": [
    "for num in range (40,60,2):\n",
    "    print(num)\n",
    "    \n",
    "  "
   ]
  },
  {
   "cell_type": "code",
   "execution_count": null,
   "id": "c6e5934d-ad63-4cc0-9d6a-00e3d074afd8",
   "metadata": {},
   "outputs": [],
   "source": []
  }
 ],
 "metadata": {
  "kernelspec": {
   "display_name": "Python 3 (ipykernel)",
   "language": "python",
   "name": "python3"
  },
  "language_info": {
   "codemirror_mode": {
    "name": "ipython",
    "version": 3
   },
   "file_extension": ".py",
   "mimetype": "text/x-python",
   "name": "python",
   "nbconvert_exporter": "python",
   "pygments_lexer": "ipython3",
   "version": "3.13.5"
  }
 },
 "nbformat": 4,
 "nbformat_minor": 5
}
