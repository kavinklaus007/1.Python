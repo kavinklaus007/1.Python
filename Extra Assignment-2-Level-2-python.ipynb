{
 "cells": [
  {
   "cell_type": "code",
   "execution_count": 3,
   "id": "581ebfe2-962a-44a5-8d6a-a85560d5bd54",
   "metadata": {},
   "outputs": [
    {
     "name": "stdout",
     "output_type": "stream",
     "text": [
      "0\n",
      "1\n",
      "2\n",
      "3\n",
      "4\n",
      "5\n",
      "6\n",
      "7\n",
      "8\n",
      "9\n",
      "10\n",
      "11\n",
      "12\n",
      "13\n",
      "14\n",
      "15\n",
      "16\n",
      "17\n",
      "18\n",
      "19\n"
     ]
    }
   ],
   "source": [
    "for num in range(0,20):\n",
    "  print(num)"
   ]
  },
  {
   "cell_type": "code",
   "execution_count": 4,
   "id": "6c15cf77-6caf-4dbc-93d9-6a5fe5c17a5c",
   "metadata": {},
   "outputs": [
    {
     "name": "stdout",
     "output_type": "stream",
     "text": [
      "10\n",
      "11\n",
      "12\n",
      "13\n",
      "14\n",
      "15\n",
      "16\n",
      "17\n",
      "18\n",
      "19\n"
     ]
    }
   ],
   "source": [
    "for num in range(10,20):\n",
    "    print(num)"
   ]
  },
  {
   "cell_type": "code",
   "execution_count": 7,
   "id": "8b096a94-bc6c-4a03-9bde-36eed3dbd517",
   "metadata": {},
   "outputs": [
    {
     "name": "stdout",
     "output_type": "stream",
     "text": [
      "[10, 20, 14, 55, 43, 87, 76]\n",
      "Number of item list:\n",
      "7\n"
     ]
    }
   ],
   "source": [
    "lists=[10,20,14,55,43,87,76]\n",
    "print(lists)\n",
    "print(\"Number of item list:\")\n",
    "print(len(lists))"
   ]
  },
  {
   "cell_type": "code",
   "execution_count": 16,
   "id": "9690cf91-07d8-4fe3-8512-799710a97c61",
   "metadata": {},
   "outputs": [
    {
     "name": "stdout",
     "output_type": "stream",
     "text": [
      "A\n",
      "r\n",
      "t\n",
      "i\n",
      "f\n",
      "i\n",
      "c\n",
      "i\n",
      "a\n",
      "l\n",
      " \n",
      "i\n",
      "n\n",
      "t\n",
      "e\n",
      "l\n",
      "l\n",
      "i\n",
      "g\n",
      "e\n",
      "n\n",
      "c\n",
      "e\n"
     ]
    }
   ],
   "source": [
    "name=\"Artificial intelligence\"\n",
    "for char in name:\n",
    "    print(char)"
   ]
  },
  {
   "cell_type": "code",
   "execution_count": 17,
   "id": "6a5be5f0-b11b-4d2a-9838-6a0d42ef4bee",
   "metadata": {},
   "outputs": [
    {
     "name": "stdout",
     "output_type": "stream",
     "text": [
      "-your name-\n",
      "-your age-\n",
      "-your profession-\n"
     ]
    }
   ],
   "source": [
    "print(\"-your name-\")\n",
    "print(\"-your age-\")\n",
    "print(\"-your profession-\")"
   ]
  },
  {
   "cell_type": "code",
   "execution_count": 18,
   "id": "bf22eea1-884b-40c4-8e18-eebb187871d5",
   "metadata": {},
   "outputs": [
    {
     "name": "stdout",
     "output_type": "stream",
     "text": [
      "(1, 'Welcome', 2, 'Hope')\n"
     ]
    }
   ],
   "source": [
    "tup=(1, 'Welcome', 2, 'Hope')\n",
    "print(tup)"
   ]
  },
  {
   "cell_type": "code",
   "execution_count": 31,
   "id": "62c886a0-a3cf-4c47-b8cc-72b8dd515989",
   "metadata": {},
   "outputs": [
    {
     "name": "stdout",
     "output_type": "stream",
     "text": [
      "((0, 1, 2, 3, 4), ('python', 'hope'))\n"
     ]
    }
   ],
   "source": [
    "tup=tuple(range(0,5))\n",
    "tup2=('python','hope')\n",
    "tup=(tup,tup2)\n",
    "print(tup)"
   ]
  },
  {
   "cell_type": "code",
   "execution_count": 33,
   "id": "2fe919f2-7207-4493-af9d-04ef3445ece6",
   "metadata": {},
   "outputs": [
    {
     "name": "stdout",
     "output_type": "stream",
     "text": [
      "19 is odd\n",
      "25 is odd\n",
      "1 is odd\n"
     ]
    }
   ],
   "source": [
    "lists=[20,10,16,19,25,1,276,188]\n",
    "for odd in lists:\n",
    "    if((odd%2)==1):\n",
    "        print(odd,\"is odd\")"
   ]
  },
  {
   "cell_type": "code",
   "execution_count": 34,
   "id": "5cd0de4b-07d8-4b82-80ca-13abf962e4cb",
   "metadata": {},
   "outputs": [
    {
     "name": "stdout",
     "output_type": "stream",
     "text": [
      "20 is even\n",
      "10 is even\n",
      "16 is even\n",
      "276 is even\n",
      "188 is even\n"
     ]
    }
   ],
   "source": [
    "lists=[20,10,16,19,25,1,276,188]\n",
    "for even in lists:\n",
    "    if((even%2)==0):\n",
    "        print(even,\"is even\")"
   ]
  },
  {
   "cell_type": "code",
   "execution_count": 36,
   "id": "0862a9b8-eed3-447d-886c-2328b4549040",
   "metadata": {},
   "outputs": [
    {
     "name": "stdout",
     "output_type": "stream",
     "text": [
      "Correct\n"
     ]
    }
   ],
   "source": [
    "i=10\n",
    "if(i==10):\n",
    "    print(\"Correct\")"
   ]
  },
  {
   "cell_type": "code",
   "execution_count": 47,
   "id": "43f633fe-94c7-4b71-9ec2-fe5a8c0544ff",
   "metadata": {},
   "outputs": [
    {
     "name": "stdin",
     "output_type": "stream",
     "text": [
      "Enter the password: HOPE@123\n"
     ]
    },
    {
     "name": "stdout",
     "output_type": "stream",
     "text": [
      "Your Password is correct\n"
     ]
    }
   ],
   "source": [
    "Password=input(\"Enter the password:\")\n",
    "if(Password=='HOPE@123'):\n",
    "    print(\"Your Password is correct\")\n",
    "else:\n",
    "    print(\"Your Password is Wrong\")"
   ]
  },
  {
   "cell_type": "code",
   "execution_count": 48,
   "id": "864aba8b-aea0-4f56-8cbc-38da07e67a7c",
   "metadata": {},
   "outputs": [
    {
     "name": "stdin",
     "output_type": "stream",
     "text": [
      "Age: 20\n"
     ]
    },
    {
     "name": "stdout",
     "output_type": "stream",
     "text": [
      "Adult\n"
     ]
    }
   ],
   "source": [
    "age=int(input(\"Age:\"))\n",
    "if(age<=14):\n",
    "    print(\"Children\")\n",
    "elif(age<=24):\n",
    "    print(\"Adult\")\n",
    "elif(age<=59):\n",
    "    print(\"Citizen\")\n",
    "else:\n",
    "    print(\"Senior Citizen\")"
   ]
  },
  {
   "cell_type": "code",
   "execution_count": 56,
   "id": "1ccf35ea-241c-4a9c-8c77-d84ec32c9f91",
   "metadata": {},
   "outputs": [
    {
     "name": "stdin",
     "output_type": "stream",
     "text": [
      "Enter any number: -1\n"
     ]
    },
    {
     "name": "stdout",
     "output_type": "stream",
     "text": [
      "Negative\n"
     ]
    }
   ],
   "source": [
    "Num=int(input(\"Enter any number:\"))\n",
    "if(Num<0):\n",
    "    print(\"Negative\")\n",
    "elif(Num==0):\n",
    "    print(\"Zero\")\n",
    "else:\n",
    "    print(\"Positive\")"
   ]
  },
  {
   "cell_type": "code",
   "execution_count": 70,
   "id": "fdaf7c30-9d01-4049-a65d-6c49cc5b3617",
   "metadata": {},
   "outputs": [
    {
     "name": "stdin",
     "output_type": "stream",
     "text": [
      "Enter a number: 43534531\n"
     ]
    },
    {
     "name": "stdout",
     "output_type": "stream",
     "text": [
      "Not divisible by 5\n"
     ]
    }
   ],
   "source": [
    "num=int(input(\"Enter a number:\"))\n",
    "if((num%5)==0):\n",
    "    print(\"Divisible by 5\")\n",
    "else:\n",
    "    print(\"Not divisible by 5\")"
   ]
  },
  {
   "cell_type": "code",
   "execution_count": 2,
   "id": "af4891fb-9d4c-4427-ad78-280647538c4d",
   "metadata": {},
   "outputs": [
    {
     "name": "stdout",
     "output_type": "stream",
     "text": [
      "k\n",
      "a\n",
      "v\n",
      "i\n",
      "n\n"
     ]
    }
   ],
   "source": [
    "name=\"kavin\"\n",
    "for melody in name:\n",
    "    print(melody)"
   ]
  },
  {
   "cell_type": "code",
   "execution_count": null,
   "id": "b9923553-397d-4b0b-b382-d3b234feb7cb",
   "metadata": {},
   "outputs": [],
   "source": []
  }
 ],
 "metadata": {
  "kernelspec": {
   "display_name": "Python 3 (ipykernel)",
   "language": "python",
   "name": "python3"
  },
  "language_info": {
   "codemirror_mode": {
    "name": "ipython",
    "version": 3
   },
   "file_extension": ".py",
   "mimetype": "text/x-python",
   "name": "python",
   "nbconvert_exporter": "python",
   "pygments_lexer": "ipython3",
   "version": "3.13.5"
  }
 },
 "nbformat": 4,
 "nbformat_minor": 5
}
